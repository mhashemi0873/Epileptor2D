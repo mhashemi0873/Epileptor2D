{
 "cells": [
  {
   "cell_type": "markdown",
   "metadata": {},
   "source": [
    "# Simulating 2D Epileptor model"
   ]
  },
  {
   "cell_type": "code",
   "execution_count": 1,
   "metadata": {
    "collapsed": true
   },
   "outputs": [],
   "source": [
    "import os\n",
    "import sys\n",
    "import time\n",
    "import errno\n",
    "import time\n",
    "\n",
    "\n",
    "import numpy as np\n",
    "import scipy as scp\n",
    "import scipy as scp\n",
    "import matplotlib.pyplot as plt\n",
    "\n",
    "import re\n",
    "import pandas as pd\n",
    "import seaborn as sns\n"
   ]
  },
  {
   "cell_type": "code",
   "execution_count": 2,
   "metadata": {
    "collapsed": true
   },
   "outputs": [],
   "source": [
    "from scipy.integrate import odeint"
   ]
  },
  {
   "cell_type": "code",
   "execution_count": 3,
   "metadata": {
    "collapsed": true
   },
   "outputs": [],
   "source": [
    "from scipy import stats as spstats"
   ]
  },
  {
   "cell_type": "code",
   "execution_count": 4,
   "metadata": {
    "collapsed": true
   },
   "outputs": [],
   "source": [
    "from scipy.optimize import fsolve\n",
    "from scipy.optimize import root"
   ]
  },
  {
   "cell_type": "code",
   "execution_count": 5,
   "metadata": {
    "collapsed": true
   },
   "outputs": [],
   "source": [
    "import numpy as np\n",
    "import torch\n",
    "\n",
    "# visualization\n",
    "import matplotlib as mpl\n",
    "import matplotlib.pyplot as plt\n"
   ]
  },
  {
   "cell_type": "code",
   "execution_count": 6,
   "metadata": {
    "collapsed": true
   },
   "outputs": [],
   "source": [
    "import sbi.utils as utils\n",
    "from sbi.inference.base import infer\n",
    "\n",
    "from sbi.inference import SNPE, prepare_for_sbi\n",
    "from sbi.utils.get_nn_models import posterior_nn"
   ]
  },
  {
   "cell_type": "code",
   "execution_count": 7,
   "metadata": {},
   "outputs": [
    {
     "name": "stdout",
     "output_type": "stream",
     "text": [
      "Populating the interactive namespace from numpy and matplotlib\n"
     ]
    }
   ],
   "source": [
    "%pylab inline\n",
    "#%matplotlib notebook"
   ]
  },
  {
   "cell_type": "code",
   "execution_count": 8,
   "metadata": {
    "collapsed": true
   },
   "outputs": [],
   "source": [
    "plt.style.use('seaborn-talk');\n",
    "\n",
    "plt.rcParams['font.family'] = 'sans-serif'\n",
    "plt.rcParams['font.sans-serif'] = 'Helvetica'\n",
    "plt.rcParams['axes.edgecolor']='#333F4B'\n",
    "plt.rcParams['axes.linewidth']=0.8\n",
    "plt.rcParams['xtick.color']='#333F4B'\n",
    "plt.rcParams['ytick.color']='#333F4B'"
   ]
  },
  {
   "cell_type": "code",
   "execution_count": 9,
   "metadata": {},
   "outputs": [
    {
     "data": {
      "text/plain": [
       "'/data/SBI'"
      ]
     },
     "execution_count": 9,
     "metadata": {},
     "output_type": "execute_result"
    }
   ],
   "source": [
    "cwd = os.getcwd()\n",
    "cwd"
   ]
  },
  {
   "cell_type": "code",
   "execution_count": 10,
   "metadata": {
    "collapsed": true
   },
   "outputs": [],
   "source": [
    "T = 120.0\n",
    "dt=0.1\n",
    "ts = np.arange(0, T + dt, dt)\n",
    "sigma=1e-1"
   ]
  },
  {
   "cell_type": "code",
   "execution_count": 11,
   "metadata": {},
   "outputs": [
    {
     "data": {
      "text/plain": [
       "1201"
      ]
     },
     "execution_count": 11,
     "metadata": {},
     "output_type": "execute_result"
    }
   ],
   "source": [
    "nt=ts.shape[0]\n",
    "nt"
   ]
  },
  {
   "cell_type": "code",
   "execution_count": 12,
   "metadata": {
    "collapsed": true
   },
   "outputs": [],
   "source": [
    "tau0=100.\n",
    "I1=3.1\n",
    "eta_true=-1.5"
   ]
  },
  {
   "cell_type": "code",
   "execution_count": 13,
   "metadata": {
    "collapsed": true
   },
   "outputs": [],
   "source": [
    "x, z= np.zeros(nt), np.zeros(nt)"
   ]
  },
  {
   "cell_type": "code",
   "execution_count": 14,
   "metadata": {
    "collapsed": true
   },
   "outputs": [],
   "source": [
    "x_init, z_init=-2.5, 3.5\n",
    "x[0],z[0]=x_init, z_init"
   ]
  },
  {
   "cell_type": "code",
   "execution_count": 15,
   "metadata": {
    "collapsed": true
   },
   "outputs": [],
   "source": [
    "for i in range(1, nt):\n",
    "    dx =1.0 - x[i-1]**3 - 2.0*x[i-1]**2 - z[i-1] + I1   \n",
    "    dz =(1.0/tau0)*(4*(x[i-1]-eta_true) - z[i-1])\n",
    "    x[i]=(x[i-1] + dt * dx )\n",
    "    z[i]=(z[i-1] + dt * dz)    "
   ]
  },
  {
   "cell_type": "code",
   "execution_count": 16,
   "metadata": {},
   "outputs": [
    {
     "data": {
      "text/plain": [
       "((1201,), (1201,))"
      ]
     },
     "execution_count": 16,
     "metadata": {},
     "output_type": "execute_result"
    }
   ],
   "source": [
    "ts.shape, x.shape"
   ]
  },
  {
   "cell_type": "code",
   "execution_count": 17,
   "metadata": {},
   "outputs": [
    {
     "name": "stderr",
     "output_type": "stream",
     "text": [
      "/home/meysam/anaconda3/lib/python3.6/site-packages/matplotlib/font_manager.py:1241: UserWarning: findfont: Font family ['sans-serif'] not found. Falling back to DejaVu Sans.\n",
      "  (prop.get_family(), self.defaultFamily[fontext]))\n"
     ]
    },
    {
     "data": {
      "image/png": "[encoded data removed]",
      "text/plain": [
       "<Figure size 576x288 with 2 Axes>"
      ]
     },
     "metadata": {},
     "output_type": "display_data"
    }
   ],
   "source": [
    "plt.figure(figsize=(8, 4))\n",
    "plt.subplot(211)\n",
    "plt.plot(ts,x , '--b.', label='$x(t)$')\n",
    "plt.xlabel('Time'); plt.ylabel('Amplitude'); \n",
    "plt.legend(loc='upper right')\n",
    "plt.tight_layout();\n",
    "plt.subplot(212)\n",
    "plt.plot(ts, z, '--r.', label='$z(t)$')\n",
    "plt.xlabel('Time'); ylabel('Amplitude'); \n",
    "plt.legend(loc='upper right')\n",
    "plt.tight_layout();\n",
    "plt.show()"
   ]
  },
  {
   "cell_type": "code",
   "execution_count": 18,
   "metadata": {
    "collapsed": true
   },
   "outputs": [],
   "source": [
    "def dy_dt(y, ts, eta):\n",
    "    I1=3.1\n",
    "    tau0=100.0\n",
    "    x = y[0]\n",
    "    z = y[1]\n",
    "    dx_dt = 1.0 - x*x*x - 2.0*x*x - z + I1;\n",
    "    dz_dt = (1.0/tau0)*(4*(x - eta) - z );\n",
    "    dy_dt=[dx_dt, dz_dt]\n",
    "    return dy_dt"
   ]
  },
  {
   "cell_type": "code",
   "execution_count": 19,
   "metadata": {
    "collapsed": true
   },
   "outputs": [],
   "source": [
    "y_init=np.array([x_init, z_init])\n",
    "y = odeint(dy_dt, y_init, ts,  args=(eta_true,))"
   ]
  },
  {
   "cell_type": "code",
   "execution_count": 20,
   "metadata": {},
   "outputs": [
    {
     "data": {
      "text/plain": [
       "(1201, 2)"
      ]
     },
     "execution_count": 20,
     "metadata": {},
     "output_type": "execute_result"
    }
   ],
   "source": [
    "y.shape"
   ]
  },
  {
   "cell_type": "code",
   "execution_count": 21,
   "metadata": {},
   "outputs": [
    {
     "data": {
      "image/png": "[encoded data removed]",
      "text/plain": [
       "<Figure size 576x288 with 2 Axes>"
      ]
     },
     "metadata": {},
     "output_type": "display_data"
    }
   ],
   "source": [
    "plt.figure(figsize=(8, 4))\n",
    "plt.subplot(211)\n",
    "plt.plot(ts,x , 'b.', label='$x(t)$')\n",
    "plt.plot(ts,y[:,0], 'cyan')\n",
    "\n",
    "plt.xlabel('Time'); plt.ylabel('Amplitude'); \n",
    "plt.legend(loc='upper right')\n",
    "plt.tight_layout();\n",
    "plt.subplot(212)\n",
    "plt.plot(ts, z, 'r.', label='$z(t)$')\n",
    "plt.plot(ts,y[:,1], 'cyan')\n",
    "plt.xlabel('Time'); ylabel('Amplitude'); \n",
    "plt.legend(loc='upper right')\n",
    "plt.tight_layout();\n",
    "plt.show()\n",
    "\n",
    "plt.show()"
   ]
  },
  {
   "cell_type": "code",
   "execution_count": 22,
   "metadata": {},
   "outputs": [
    {
     "data": {
      "text/plain": [
       "((1201,), (1201,))"
      ]
     },
     "execution_count": 22,
     "metadata": {},
     "output_type": "execute_result"
    }
   ],
   "source": [
    "x.shape, ts.shape"
   ]
  },
  {
   "cell_type": "code",
   "execution_count": 23,
   "metadata": {},
   "outputs": [],
   "source": [
    "# v=np.zeros(nt)\n",
    "# v= np.array(x)\n",
    "\n",
    "\n",
    "# v_th=-1.5\n",
    "# ind = np.where(v < v_th)\n",
    "# v[ind] = v_th\n",
    "\n",
    "\n",
    "# ind1 = np.where(np.diff(v) > 0)\n",
    "\n",
    "# spike_times1 = np.array(ts)[ind1]\n",
    "# spike_times_stim1 = spike_times1\n",
    "\n",
    "# if spike_times_stim1.shape[0] > 0:\n",
    "#         spike_times_stim1 = spike_times_stim1[np.append(1, np.diff(spike_times_stim1)) > 0.5]\n",
    "        \n",
    "        \n",
    "# ind2 = np.where((v[:-1]<-1) & (np.diff(v) < 0))\n",
    "\n",
    "# spike_times2 = np.array(ts)[ind2]\n",
    "# spike_times_stim2 = spike_times2\n",
    "\n",
    "# if spike_times_stim2.shape[0] > 0:\n",
    "#         spike_times_stim2 = spike_times_stim2[np.append(1, np.diff(spike_times_stim2)) > 0.5]        "
   ]
  },
  {
   "cell_type": "code",
   "execution_count": 169,
   "metadata": {},
   "outputs": [],
   "source": [
    "v=np.zeros(nt)\n",
    "v= np.array(x)\n",
    "\n",
    "\n",
    "v_th=0\n",
    "ind = np.where(v < v_th)\n",
    "v[ind] = v_th\n",
    "\n",
    "\n",
    "ind = np.where(np.diff(v) < 0)\n",
    "v[ind] = v_th\n",
    "\n",
    "spike_times = np.array(ts)[ind]\n",
    "spike_times_stim = spike_times\n",
    "\n",
    "if spike_times_stim.shape[0] > 0:\n",
    "        spike_times_stim = spike_times_stim[np.append(1, np.diff(spike_times_stim)) > 0.75]\n",
    "        \n",
    "        \n",
    "     "
   ]
  },
  {
   "cell_type": "code",
   "execution_count": 170,
   "metadata": {},
   "outputs": [
    {
     "data": {
      "text/plain": [
       "array([23. , 94.9])"
      ]
     },
     "execution_count": 170,
     "metadata": {},
     "output_type": "execute_result"
    }
   ],
   "source": [
    "spike_times_stim"
   ]
  },
  {
   "cell_type": "code",
   "execution_count": 171,
   "metadata": {},
   "outputs": [
    {
     "data": {
      "image/png": "[encoded data removed]",
      "text/plain": [
       "<Figure size 748.8x514.8 with 1 Axes>"
      ]
     },
     "metadata": {},
     "output_type": "display_data"
    }
   ],
   "source": [
    "plt.plot(ts,x, 'b');\n",
    "plt.plot(ts,v, 'r');\n",
    "for i in np.r_[0:len(spike_times_stim)]:\n",
    "     plt.axvline(x=spike_times_stim[i], linewidth=.8, color = 'r', linestyle='--')"
   ]
  },
  {
   "cell_type": "markdown",
   "metadata": {},
   "source": [
    "### Simulator"
   ]
  },
  {
   "cell_type": "code",
   "execution_count": 172,
   "metadata": {
    "collapsed": true
   },
   "outputs": [],
   "source": [
    "def Epileptor_ODEmodel(params, constants, dt, ts, seed=None):\n",
    "   \n",
    "    eta, x_init, z_init  = params[0], params[1], params[2]\n",
    "    eta.astype(float)\n",
    "    x_init.astype(float)\n",
    "    z_init.astype(float)\n",
    "\n",
    "    # fixed parameters\n",
    "    tau0, I1, sigma=constants[0], constants[1], constants[2]\n",
    "    dt = float(dt)\n",
    "\n",
    "    if seed is not None:\n",
    "        rng = np.random.RandomState(seed=seed)\n",
    "    else:\n",
    "        rng = np.random.RandomState()\n",
    "\n",
    "   \n",
    "    y_init=np.array([x_init, z_init])\n",
    "    y = odeint(dy_dt, y_init, ts,  args=(eta,))\n",
    "        \n",
    "    return y[:,0].reshape(-1)\n",
    "     "
   ]
  },
  {
   "cell_type": "code",
   "execution_count": 174,
   "metadata": {},
   "outputs": [],
   "source": [
    "def calculate_summary_statistics(x, dt, ts):\n",
    "    \"\"\"Calculate summary statistics\n",
    "\n",
    "    Parameters\n",
    "    ----------\n",
    "    x : output of the simulator\n",
    "\n",
    "    Returns\n",
    "    -------\n",
    "    np.array, summary statistics\n",
    "    \"\"\"\n",
    "\n",
    "\n",
    "\n",
    "    n_mom = 4\n",
    "    n_summary=7\n",
    "    n_summary = np.minimum(n_summary, n_mom + 3)\n",
    "\n",
    "    # initialise array of spike counts\n",
    "    v=np.zeros(nt)\n",
    "    v= np.array(x)\n",
    "\n",
    "\n",
    "\n",
    "    v_th=0\n",
    "    ind = np.where(v < v_th)\n",
    "    v[ind] = v_th\n",
    "\n",
    "\n",
    "    ind = np.where(np.diff(v) < 0)\n",
    "    v[ind] = v_th\n",
    "\n",
    "    spike_times = np.array(ts)[ind]\n",
    "    spike_times_stim = spike_times\n",
    "\n",
    "    if spike_times_stim.shape[0] > 0:\n",
    "            spike_times_stim = spike_times_stim[np.append(1, np.diff(spike_times_stim)) > 0.75]\n",
    "        \n",
    "        \n",
    "        \n",
    "#     ind = np.where(v < 0)\n",
    "#     v[ind] = 0\n",
    "#     ind = np.where(np.diff(v) < 0)\n",
    "#     v[ind] = 0\n",
    "\n",
    "#     ind = np.where(np.diff(v) < 0)\n",
    "\n",
    "#     spike_times = np.array(ts)[ind]\n",
    "#     spike_times_stim = spike_times\n",
    "\n",
    "\n",
    "#     if spike_times_stim.shape[0] > 0:\n",
    "#         spike_times_stim = spike_times_stim[np.append(1, np.diff(spike_times_stim)) > 0.5]\n",
    "\n",
    "        \n",
    "    std_pw = np.power(np.std(x), np.linspace(3, n_mom, n_mom - 2) )\n",
    "\n",
    "    std_pw = np.concatenate((np.ones(1), std_pw))\n",
    "\n",
    "\n",
    "    #momments\n",
    "    spstats.moment(x, np.linspace(2, n_mom, n_mom - 1))/std_pw\n",
    "\n",
    "    moments = spstats.moment(v, np.linspace(2, n_mom, n_mom - 1))/ std_pw\n",
    "\n",
    "    sum_stats_vec = np.concatenate((np.array([spike_times_stim.shape[0]]),\n",
    "                                    np.array([np.mean(x)]), np.array([np.std(x)]), \n",
    "                                    moments,))\n",
    "\n",
    "    sum_stats_vec = sum_stats_vec[0:n_summary]\n",
    "\n",
    "\n",
    "    return sum_stats_vec\n"
   ]
  },
  {
   "cell_type": "code",
   "execution_count": 175,
   "metadata": {
    "collapsed": true
   },
   "outputs": [],
   "source": [
    "def Epileptor_ODEsimulator(params):\n",
    "\n",
    "    params = np.asarray(params)\n",
    "    \n",
    "    # input, time step\n",
    "    constants = np.array([10.0, 3.1, 1e-1])\n",
    "    T = 120.0\n",
    "    dt=0.1\n",
    "    ts = np.arange(0, T + dt, dt)\n",
    "\n",
    "    states = Epileptor_ODEmodel(params, constants, dt, ts, seed=0)\n",
    "\n",
    "    return states.reshape(-1)  "
   ]
  },
  {
   "cell_type": "code",
   "execution_count": 176,
   "metadata": {
    "collapsed": true
   },
   "outputs": [],
   "source": [
    "def Epileptor_ODEsimulator_wrapper(params):\n",
    "\n",
    "    params = np.asarray(params)\n",
    "    \n",
    "    # input, time step\n",
    "    constants = np.array([10.0, 3.1, 1e-1])\n",
    "    T = 120.0\n",
    "    dt=0.1\n",
    "    ts = np.arange(0, T + dt, dt)\n",
    "\n",
    "    states = Epileptor_ODEmodel(params, constants, dt, ts, seed=0)\n",
    "\n",
    "    summstats = torch.as_tensor(calculate_summary_statistics(states, dt, ts))\n",
    "\n",
    "    return summstats "
   ]
  },
  {
   "cell_type": "markdown",
   "metadata": {},
   "source": [
    "### some simulations"
   ]
  },
  {
   "cell_type": "code",
   "execution_count": 177,
   "metadata": {},
   "outputs": [],
   "source": [
    "T = 120.0\n",
    "dt=0.1\n",
    "t = np.arange(0, T + dt, dt)\n",
    "sigma=1e-1"
   ]
  },
  {
   "cell_type": "code",
   "execution_count": 178,
   "metadata": {},
   "outputs": [
    {
     "data": {
      "text/plain": [
       "(3, 3)"
      ]
     },
     "execution_count": 178,
     "metadata": {},
     "output_type": "execute_result"
    }
   ],
   "source": [
    "# three sets of params (eta, x0, z0)\n",
    "params = np.array([[-3.5, -2.5, 3.5],[-2.1, -2.5, 3.5],[-1.5, -2.5, 3.5]])\n",
    "params.shape"
   ]
  },
  {
   "cell_type": "code",
   "execution_count": 179,
   "metadata": {},
   "outputs": [
    {
     "data": {
      "text/plain": [
       "(3, (1201,))"
      ]
     },
     "execution_count": 179,
     "metadata": {},
     "output_type": "execute_result"
    }
   ],
   "source": [
    "len(params[:,0]), ts.shape"
   ]
  },
  {
   "cell_type": "code",
   "execution_count": 180,
   "metadata": {},
   "outputs": [
    {
     "data": {
      "text/plain": [
       "(3, (3, 1201))"
      ]
     },
     "execution_count": 180,
     "metadata": {},
     "output_type": "execute_result"
    }
   ],
   "source": [
    "num_p = len(params[:,0])\n",
    "sim_p = np.zeros((num_p, ts.shape[0]))\n",
    "sim_stat_p = np.zeros((num_p, 6))\n",
    "\n",
    "num_p,sim_p.shape"
   ]
  },
  {
   "cell_type": "code",
   "execution_count": 181,
   "metadata": {},
   "outputs": [
    {
     "data": {
      "text/plain": [
       "(3, 6)"
      ]
     },
     "execution_count": 181,
     "metadata": {},
     "output_type": "execute_result"
    }
   ],
   "source": [
    "sim_stat_p.shape"
   ]
  },
  {
   "cell_type": "code",
   "execution_count": 182,
   "metadata": {},
   "outputs": [],
   "source": [
    "for i in range(num_p):\n",
    "    sim_p[i,:] = Epileptor_ODEsimulator(params=params[i,:])\n",
    "    sim_stat_p[i,:] = Epileptor_ODEsimulator_wrapper(params=params[i,:])"
   ]
  },
  {
   "cell_type": "code",
   "execution_count": 183,
   "metadata": {},
   "outputs": [
    {
     "data": {
      "image/png": "[encoded data removed]",
      "text/plain": [
       "<Figure size 504x360 with 1 Axes>"
      ]
     },
     "metadata": {},
     "output_type": "display_data"
    }
   ],
   "source": [
    "# colors for traces\n",
    "col_min = 2\n",
    "num_colors = num_p+col_min\n",
    "cm1 = mpl.cm.Blues\n",
    "col1 = [cm1(1.*i/num_colors) for i in range(col_min,num_colors)]\n",
    "\n",
    "\n",
    "fig = plt.figure(figsize=(7,5))\n",
    "gs = mpl.gridspec.GridSpec(2, 1, height_ratios=[4, 1])\n",
    "ax = plt.subplot(gs[0])\n",
    "for i in range(num_p):\n",
    "    plt.plot(ts,sim_p[i,:],color=col1[i],lw=2)\n",
    "\n",
    "plt.xlabel('Time'); plt.ylabel('x'); \n",
    "#plt.legend(loc='upper right')\n",
    "#plt.tight_layout();\n",
    "#ax.set_xticks([])\n",
    "#ax.set_yticks([])\n",
    "#ax.set_xticks([0, max(t)/2, max(t)])\n",
    "ax.yaxis.set_major_formatter(mpl.ticker.FormatStrFormatter('%.2f'))\n",
    "plt.show()"
   ]
  },
  {
   "cell_type": "code",
   "execution_count": 184,
   "metadata": {},
   "outputs": [
    {
     "data": {
      "text/plain": [
       "array([[ 0.        , -2.07955578,  0.09275875,  0.        ,  0.        ,\n",
       "         0.        ],\n",
       "       [ 0.        , -1.47169847,  0.1455376 ,  0.        ,  0.        ,\n",
       "         0.        ],\n",
       "       [ 2.        , -0.53907189,  1.03789937,  0.00700164,  0.00365607,\n",
       "         0.00215592]])"
      ]
     },
     "execution_count": 184,
     "metadata": {},
     "output_type": "execute_result"
    }
   ],
   "source": [
    "sim_stat_p"
   ]
  },
  {
   "cell_type": "markdown",
   "metadata": {},
   "source": [
    "## 3. Prior over model parameters"
   ]
  },
  {
   "cell_type": "code",
   "execution_count": 185,
   "metadata": {
    "collapsed": true
   },
   "outputs": [],
   "source": [
    "prior_min = [-4., -5., 0.]\n",
    "prior_max = [-1, 0., 5.]\n",
    "prior = utils.torchutils.BoxUniform(low=torch.as_tensor(prior_min), high=torch.as_tensor(prior_max))"
   ]
  },
  {
   "cell_type": "markdown",
   "metadata": {},
   "source": [
    "### Inference"
   ]
  },
  {
   "cell_type": "code",
   "execution_count": 186,
   "metadata": {},
   "outputs": [
    {
     "data": {
      "application/vnd.jupyter.widget-view+json": {
       "model_id": "54677d8850714414a3a4213dddadf182",
       "version_major": 2,
       "version_minor": 0
      },
      "text/plain": [
       "A Jupyter Widget"
      ]
     },
     "metadata": {},
     "output_type": "display_data"
    },
    {
     "name": "stdout",
     "output_type": "stream",
     "text": [
      "\n",
      "Neural network successfully converged after 118 epochs.\n",
      "------------------------------------------------------------\n",
      "--- 45.68008780479431 seconds ---\n"
     ]
    }
   ],
   "source": [
    "start_time = time.time()\n",
    "\n",
    "posterior = infer(Epileptor_ODEsimulator_wrapper, prior, method='SNPE', num_simulations=1000, num_workers=1)\n",
    "\n",
    "print (\"-\"*60)\n",
    "print(\"--- %s seconds ---\" % (time.time() - start_time))"
   ]
  },
  {
   "cell_type": "code",
   "execution_count": 187,
   "metadata": {
    "collapsed": true
   },
   "outputs": [],
   "source": [
    "#simulator, prior = prepare_for_sbi(Epileptor_ODEsimulator_wrapper, prior)\n",
    "#inference = SNPE(simulator, prior)\n"
   ]
  },
  {
   "cell_type": "code",
   "execution_count": 188,
   "metadata": {},
   "outputs": [],
   "source": [
    "# num_rounds = 2\n",
    "# y_obs_summary_statistics=calculate_summary_statistics(y_obs, dt, ts)\n",
    "# x_o = y_obs_summary_statistics\n",
    "\n",
    "\n",
    "# posteriors = []\n",
    "# proposal = None\n",
    "\n",
    "# for _ in range(num_rounds):\n",
    "#     posterior = inference(num_simulations=500, proposal=proposal)\n",
    "#     posteriors.append(posterior)\n",
    "#     proposal = posterior.set_default_x(x_o)"
   ]
  },
  {
   "cell_type": "markdown",
   "metadata": {},
   "source": [
    "### Data"
   ]
  },
  {
   "cell_type": "code",
   "execution_count": 189,
   "metadata": {
    "collapsed": true
   },
   "outputs": [],
   "source": [
    "# true parameters and respective labels\n",
    "true_params = np.array([-1.5, -2.5, 3.5])\n",
    "labels_params = [r'$eta$', r'$x_init$', r'$z_init$']"
   ]
  },
  {
   "cell_type": "code",
   "execution_count": 190,
   "metadata": {},
   "outputs": [
    {
     "data": {
      "text/plain": [
       "1201"
      ]
     },
     "execution_count": 190,
     "metadata": {},
     "output_type": "execute_result"
    }
   ],
   "source": [
    "ts.shape[0]"
   ]
  },
  {
   "cell_type": "code",
   "execution_count": 204,
   "metadata": {},
   "outputs": [],
   "source": [
    "y_obs=Epileptor_ODEsimulator(params=true_params)\n",
    "y_obs_summary_statistics=calculate_summary_statistics(y_obs, dt, ts)"
   ]
  },
  {
   "cell_type": "code",
   "execution_count": 205,
   "metadata": {},
   "outputs": [
    {
     "data": {
      "text/plain": [
       "array([ 2.        , -0.53907189,  1.03789937,  0.00700164,  0.00365607,\n",
       "        0.00215592])"
      ]
     },
     "execution_count": 205,
     "metadata": {},
     "output_type": "execute_result"
    }
   ],
   "source": [
    "y_obs_summary_statistics"
   ]
  },
  {
   "cell_type": "code",
   "execution_count": 206,
   "metadata": {},
   "outputs": [
    {
     "data": {
      "text/plain": [
       "((1201,), 1201)"
      ]
     },
     "execution_count": 206,
     "metadata": {},
     "output_type": "execute_result"
    }
   ],
   "source": [
    "y_obs.shape, nt"
   ]
  },
  {
   "cell_type": "code",
   "execution_count": 207,
   "metadata": {},
   "outputs": [
    {
     "data": {
      "text/plain": [
       "array([ 2.        , -0.53907189,  1.03789937,  0.00700164,  0.00365607,\n",
       "        0.00215592])"
      ]
     },
     "execution_count": 207,
     "metadata": {},
     "output_type": "execute_result"
    }
   ],
   "source": [
    "y_obs_summary_statistics"
   ]
  },
  {
   "cell_type": "code",
   "execution_count": 208,
   "metadata": {},
   "outputs": [
    {
     "data": {
      "image/png": "[encoded data removed]",
      "text/plain": [
       "<Figure size 360x288 with 1 Axes>"
      ]
     },
     "metadata": {},
     "output_type": "display_data"
    }
   ],
   "source": [
    "plt.figure(figsize=(5,4))\n",
    "plt.plot(y_obs[0:nt], 'b')\n",
    "#plt.plot(y_obs[nt:2*nt], 'r')\n",
    "plt.xlabel('time')\n",
    "plt.ylabel('observation')\n",
    "plt.show()"
   ]
  },
  {
   "cell_type": "markdown",
   "metadata": {},
   "source": [
    "### Posterior"
   ]
  },
  {
   "cell_type": "code",
   "execution_count": 209,
   "metadata": {
    "collapsed": true
   },
   "outputs": [],
   "source": [
    "num_samples=1000"
   ]
  },
  {
   "cell_type": "code",
   "execution_count": 210,
   "metadata": {},
   "outputs": [
    {
     "data": {
      "application/vnd.jupyter.widget-view+json": {
       "model_id": "ff351640a59e4da2b77754df5da2059a",
       "version_major": 2,
       "version_minor": 0
      },
      "text/plain": [
       "A Jupyter Widget"
      ]
     },
     "metadata": {},
     "output_type": "display_data"
    },
    {
     "name": "stdout",
     "output_type": "stream",
     "text": [
      "\n"
     ]
    }
   ],
   "source": [
    "posterior_sample = posterior.sample((num_samples,), y_obs_summary_statistics).numpy()"
   ]
  },
  {
   "cell_type": "code",
   "execution_count": 211,
   "metadata": {},
   "outputs": [
    {
     "data": {
      "text/plain": [
       "(1000, 3)"
      ]
     },
     "execution_count": 211,
     "metadata": {},
     "output_type": "execute_result"
    }
   ],
   "source": [
    "posterior_sample.shape"
   ]
  },
  {
   "cell_type": "code",
   "execution_count": 212,
   "metadata": {},
   "outputs": [
    {
     "data": {
      "image/png": "[encoded data removed]",
      "text/plain": [
       "<Figure size 1008x288 with 2 Axes>"
      ]
     },
     "metadata": {},
     "output_type": "display_data"
    }
   ],
   "source": [
    "plt.figure(figsize=(14,4))\n",
    "plt.subplot(121)\n",
    "plt.plot(posterior_sample)\n",
    "plt.hlines(y=true_params, xmin=0., xmax=num_samples, linewidth=1.5, color = 'k', linestyle='--', zorder=5)\n",
    "plt.xlabel('num_samples')\n",
    "plt.ylabel(r'$\\eta$')\n",
    "plt.subplot(122)\n",
    "plt.hist(posterior_sample, bins=50)\n",
    "plt.vlines(x=true_params, ymin=0., ymax=100, linewidth=1.5, color = 'k', linestyle='--', zorder=5)\n",
    "plt.xlabel(r'$\\eta$')\n",
    "plt.ylabel('Posterior')\n",
    "plt.show()"
   ]
  },
  {
   "cell_type": "code",
   "execution_count": 213,
   "metadata": {},
   "outputs": [
    {
     "data": {
      "image/png": "[encoded data removed]",
      "text/plain": [
       "<Figure size 576x576 with 9 Axes>"
      ]
     },
     "metadata": {},
     "output_type": "display_data"
    }
   ],
   "source": [
    "fig, axes = utils.pairplot(posterior_sample,\n",
    "                           fig_size=(8,8),\n",
    "                           points=true_params,\n",
    "                           points_offdiag={'markersize': 20},\n",
    "                           points_colors='r');"
   ]
  },
  {
   "cell_type": "code",
   "execution_count": 214,
   "metadata": {
    "collapsed": true
   },
   "outputs": [],
   "source": [
    "y_fit = Epileptor_ODEsimulator(np.percentile(posterior_sample, [50], axis=0).reshape(-1))\n",
    "y_ppc_lo = Epileptor_ODEsimulator(np.percentile(posterior_sample, [5], axis=0).reshape(-1))\n",
    "y_ppc_hi = Epileptor_ODEsimulator(np.percentile(posterior_sample, [95], axis=0).reshape(-1))"
   ]
  },
  {
   "cell_type": "code",
   "execution_count": 215,
   "metadata": {},
   "outputs": [
    {
     "data": {
      "text/plain": [
       "(1201,)"
      ]
     },
     "execution_count": 215,
     "metadata": {},
     "output_type": "execute_result"
    }
   ],
   "source": [
    "y_fit.shape"
   ]
  },
  {
   "cell_type": "code",
   "execution_count": 216,
   "metadata": {},
   "outputs": [
    {
     "data": {
      "image/png": "[encoded data removed]",
      "text/plain": [
       "<Figure size 576x360 with 1 Axes>"
      ]
     },
     "metadata": {},
     "output_type": "display_data"
    }
   ],
   "source": [
    "fig = plt.figure(figsize=(8,5))\n",
    "\n",
    "# plot observation\n",
    "#plt.plot(ts, y_obs, lw=2, color='b' , label='observation')\n",
    "plt.plot(ts, y_obs[0:nt], 'b',label='observation')\n",
    "#plt.plot(ts,y_obs[nt:2*nt], 'r',label='observation')\n",
    "\n",
    "# simulate and plot samples\n",
    "plt.plot(ts, y_fit[0:nt], lw=2, color='cyan', label='fit')\n",
    "#plt.plot(ts, y_fit[nt:2*nt], lw=2, color='cyan', label='fit')\n",
    "\n",
    "\n",
    "#plt.fill_between(t, y_ppc_lo, y_ppc_hi, color='green', alpha=.6) \n",
    "plt.xlabel('time (ms)')\n",
    "plt.ylabel('voltage (mV)')\n",
    "\n",
    "ax = plt.gca()\n",
    "handles, labels = ax.get_legend_handles_labels()\n",
    "ax.legend(handles[::-1], labels[::-1], bbox_to_anchor=(1.3, 1), \n",
    "          loc='upper right')\n",
    "\n",
    "plt.show()\n",
    "# ax.set_xticks([0, 60, 120])\n",
    "# ax.set_yticks([-80, -20, 40]);"
   ]
  },
  {
   "cell_type": "code",
   "execution_count": null,
   "metadata": {
    "collapsed": true
   },
   "outputs": [],
   "source": []
  }
 ],
 "metadata": {
  "kernelspec": {
   "display_name": "Python 3",
   "language": "python",
   "name": "python3"
  },
  "language_info": {
   "codemirror_mode": {
    "name": "ipython",
    "version": 3
   },
   "file_extension": ".py",
   "mimetype": "text/x-python",
   "name": "python",
   "nbconvert_exporter": "python",
   "pygments_lexer": "ipython3",
   "version": "3.6.7"
  }
 },
 "nbformat": 4,
 "nbformat_minor": 4
}
